{
 "cells": [
  {
   "cell_type": "code",
   "execution_count": 1,
   "metadata": {},
   "outputs": [],
   "source": [
    "import numpy as np\n",
    "from pm4py.algo.simulation.tree_generator import factory as tree_gen_factory\n",
    "from pm4py.objects.process_tree import semantics\n",
    "from pm4py.visualization.process_tree import factory as pt_vis_factory\n",
    "import copy, random\n",
    "from random import choice, randint\n",
    "import gensim\n",
    "\n",
    "from gensim.corpora.dictionary import Dictionary\n",
    "from pyemd import emd"
   ]
  },
  {
   "cell_type": "markdown",
   "metadata": {},
   "source": [
    "# Definition of all noise functions"
   ]
  },
  {
   "cell_type": "code",
   "execution_count": 2,
   "metadata": {},
   "outputs": [],
   "source": [
    "def add_noise_name(logdummy, noise_level):\n",
    "    changelog = copy.deepcopy(logdummy)\n",
    "    actionset = set([]) #we use a set to only keep unique actions, for a vocabulary\n",
    "    for i in range(len(logdummy)):\n",
    "        for j in range(len(logdummy[i])):\n",
    "            actionset.add(logdummy[i][j])\n",
    "    actions = list(actionset)\n",
    "    #print(actions)\n",
    "    #we could also use activities = attributes_filter.get_attribute_values(log, \"concept:name\")\n",
    "    \n",
    "    amount_of_noisy_traces = int(noise_level * len(logdummy))\n",
    "    #print(amount_of_noisy_traces)\n",
    "    noisy_examples = random.sample(range(0, len(logdummy)), amount_of_noisy_traces)\n",
    "    #print(noisy_examples)\n",
    "    for i in range(0, len(logdummy)):\n",
    "        if i in noisy_examples:\n",
    "            random_act = random.randint(0, len(logdummy[i]) - 1)\n",
    "            new = random.choice(actions)\n",
    "            #new = 'dumdum'\n",
    "            changelog[i][random_act] = new\n",
    "    return changelog"
   ]
  },
  {
   "cell_type": "code",
   "execution_count": 3,
   "metadata": {},
   "outputs": [],
   "source": [
    "def add_noise_delete(logdummy, noise_level):\n",
    "    changelog = copy.deepcopy(logdummy)\n",
    "    amount_of_noisy_traces = int(noise_level * len(logdummy))\n",
    "    #print(amount_of_noisy_traces)\n",
    "    noisy_examples = random.sample(range(0, len(logdummy)), amount_of_noisy_traces)\n",
    "    #print(noisy_examples)\n",
    "    for i in range(0, len(logdummy)):\n",
    "        if i in noisy_examples:\n",
    "            random_act = random.randint(0, len(logdummy[i]) - 1)\n",
    "            newtrace = copy.deepcopy(logdummy[i])\n",
    "            #print(random_act)\n",
    "            #print(newtrace)\n",
    "            del newtrace[random_act]\n",
    "            #print(newtrace)\n",
    "            changelog[i] = newtrace\n",
    "    return changelog"
   ]
  },
  {
   "cell_type": "code",
   "execution_count": 4,
   "metadata": {},
   "outputs": [],
   "source": [
    "def add_noise_order(logdummy, noise_level):\n",
    "    changelog = copy.deepcopy(logdummy)\n",
    "    amount_of_noisy_traces = int(noise_level * len(logdummy))\n",
    "    #print(amount_of_noisy_traces)\n",
    "    noisy_examples = random.sample(range(0, len(logdummy)), amount_of_noisy_traces)\n",
    "    #print(noisy_examples)\n",
    "    for i in range(0, len(logdummy)):\n",
    "        if i in noisy_examples:\n",
    "            random_act = random.randint(0, len(logdummy[i]) - 1)\n",
    "            random_act2 = random.randint(0, len(logdummy[i]) - 1)\n",
    "            first = logdummy[i][random_act]\n",
    "            second = logdummy[i][random_act2]\n",
    "            \n",
    "            changelog[i][random_act] = second\n",
    "            changelog[i][random_act2] = first\n",
    "    return changelog"
   ]
  },
  {
   "cell_type": "code",
   "execution_count": 5,
   "metadata": {},
   "outputs": [],
   "source": [
    "def add_noise(logdummy, noise_level):\n",
    "    l1 = add_noise_name(logdummy, noise_level)\n",
    "    l2 = add_noise_order(l1, noise_level)\n",
    "    l3 = add_noise_delete(l2, noise_level)\n",
    "    return(l3)"
   ]
  },
  {
   "cell_type": "markdown",
   "metadata": {},
   "source": [
    "# Definitions for generating trees and logs"
   ]
  },
  {
   "cell_type": "code",
   "execution_count": 6,
   "metadata": {},
   "outputs": [],
   "source": [
    "def log_converter(logdummy):\n",
    "    outputlog = []\n",
    "    for i in range(len(logdummy)):\n",
    "        dummytrace = []\n",
    "        for j in range(len(logdummy[i])):\n",
    "            dummytrace.append(logdummy[i][j]['concept:name'].replace(\" \", \"\"))\n",
    "        outputlog.append(dummytrace)\n",
    "    return(outputlog)"
   ]
  },
  {
   "cell_type": "code",
   "execution_count": 7,
   "metadata": {},
   "outputs": [],
   "source": [
    "def Gen_Log(sizelog, mode, minimum, maximum, sequence, choice, parallel, loops):\n",
    "    parameters = {\"mode\": mode, \"min\": minimum, \"max\": maximum, \"sequence\": sequence, \"choice\": choice, \"parallel\": parallel, \"loop\": loops}\n",
    "    tree = tree_gen_factory.apply(parameters=parameters)\n",
    "    firstlog = semantics.generate_log(tree, no_traces=sizelog)\n",
    "    log = log_converter(firstlog)\n",
    "    return(log, tree)"
   ]
  },
  {
   "cell_type": "markdown",
   "metadata": {},
   "source": [
    "# import scripts"
   ]
  },
  {
   "cell_type": "code",
   "execution_count": 8,
   "metadata": {},
   "outputs": [],
   "source": [
    "import WMD\n",
    "import TraceDist\n",
    "import ICT"
   ]
  },
  {
   "cell_type": "markdown",
   "metadata": {},
   "source": [
    "# Define Test"
   ]
  },
  {
   "cell_type": "code",
   "execution_count": 9,
   "metadata": {},
   "outputs": [],
   "source": [
    "def get_average(list):\n",
    "    av = []\n",
    "    for trace in list:\n",
    "        av.append(len(trace))\n",
    "    return sum(av) / len(av) "
   ]
  },
  {
   "cell_type": "code",
   "execution_count": 10,
   "metadata": {},
   "outputs": [],
   "source": [
    "def test(sizelog, mode, minimum, maximum, sequence, choice, parallel, loops, windowsize, k):\n",
    "    print(\"Tree parameters\", sizelog, mode, minimum, maximum, sequence, choice, parallel, loops)\n",
    "    av_num_traces = 1.0\n",
    "    while av_num_traces < minimum/2:\n",
    "        log, tree = Gen_Log(sizelog, mode, minimum, maximum, sequence, choice, parallel, loops)\n",
    "        av_num_traces = get_average(log)\n",
    "    print(av_num_traces)\n",
    "    \n",
    "    noises = [0.1, 0.2, 0.3, 0.4, 0.5]\n",
    "    for noise in noises:\n",
    "        print(\"Noise level:\", noise)\n",
    "        noise_log = add_noise(log, noise)\n",
    "        WMD1, WMD2 = WMD.get_dist(log, noise_log, windowsize)\n",
    "        print(\"WMD:\")\n",
    "        print(WMD1)\n",
    "        ICT1, ICT2 = ICT.get_dist(log, noise_log, windowsize)\n",
    "        print(\"ICT:\")\n",
    "        print(ICT1)\n",
    "        T1, T2 = TraceDist.get_dist(log, noise_log, windowsize)\n",
    "        print(\"Trace:\")\n",
    "        print(T1)\n",
    "        \n",
    "        \n",
    "    "
   ]
  },
  {
   "cell_type": "markdown",
   "metadata": {},
   "source": [
    "# example test"
   ]
  },
  {
   "cell_type": "code",
   "execution_count": 11,
   "metadata": {
    "scrolled": true
   },
   "outputs": [
    {
     "name": "stdout",
     "output_type": "stream",
     "text": [
      "Tree parameters 1000 10 5 15 0.75 0.25 0.0 0.0\n",
      "6.0\n",
      "Noise level: 0.1\n"
     ]
    },
    {
     "ename": "KeyboardInterrupt",
     "evalue": "",
     "output_type": "error",
     "traceback": [
      "\u001b[1;31m---------------------------------------------------------------------------\u001b[0m",
      "\u001b[1;31mKeyboardInterrupt\u001b[0m                         Traceback (most recent call last)",
      "\u001b[1;32m<ipython-input-11-ef5e0d5475fa>\u001b[0m in \u001b[0;36m<module>\u001b[1;34m\u001b[0m\n\u001b[1;32m----> 1\u001b[1;33m \u001b[0mtest\u001b[0m\u001b[1;33m(\u001b[0m\u001b[1;36m1000\u001b[0m\u001b[1;33m,\u001b[0m \u001b[1;36m10\u001b[0m\u001b[1;33m,\u001b[0m \u001b[1;36m5\u001b[0m\u001b[1;33m,\u001b[0m \u001b[1;36m15\u001b[0m\u001b[1;33m,\u001b[0m \u001b[1;36m0.75\u001b[0m\u001b[1;33m,\u001b[0m \u001b[1;36m0.25\u001b[0m\u001b[1;33m,\u001b[0m \u001b[1;36m0.0\u001b[0m\u001b[1;33m,\u001b[0m \u001b[1;36m0.0\u001b[0m\u001b[1;33m,\u001b[0m \u001b[1;36m3\u001b[0m\u001b[1;33m,\u001b[0m \u001b[1;36m3\u001b[0m\u001b[1;33m)\u001b[0m\u001b[1;33m\u001b[0m\u001b[1;33m\u001b[0m\u001b[0m\n\u001b[0m",
      "\u001b[1;32m<ipython-input-10-09d7c4771463>\u001b[0m in \u001b[0;36mtest\u001b[1;34m(sizelog, mode, minimum, maximum, sequence, choice, parallel, loops, windowsize, k)\u001b[0m\n\u001b[0;32m     11\u001b[0m         \u001b[0mprint\u001b[0m\u001b[1;33m(\u001b[0m\u001b[1;34m\"Noise level:\"\u001b[0m\u001b[1;33m,\u001b[0m \u001b[0mnoise\u001b[0m\u001b[1;33m)\u001b[0m\u001b[1;33m\u001b[0m\u001b[1;33m\u001b[0m\u001b[0m\n\u001b[0;32m     12\u001b[0m         \u001b[0mnoise_log\u001b[0m \u001b[1;33m=\u001b[0m \u001b[0madd_noise\u001b[0m\u001b[1;33m(\u001b[0m\u001b[0mlog\u001b[0m\u001b[1;33m,\u001b[0m \u001b[0mnoise\u001b[0m\u001b[1;33m)\u001b[0m\u001b[1;33m\u001b[0m\u001b[1;33m\u001b[0m\u001b[0m\n\u001b[1;32m---> 13\u001b[1;33m         \u001b[0mWMD1\u001b[0m\u001b[1;33m,\u001b[0m \u001b[0mWMD2\u001b[0m \u001b[1;33m=\u001b[0m \u001b[0mWMD\u001b[0m\u001b[1;33m.\u001b[0m\u001b[0mget_dist\u001b[0m\u001b[1;33m(\u001b[0m\u001b[0mlog\u001b[0m\u001b[1;33m,\u001b[0m \u001b[0mnoise_log\u001b[0m\u001b[1;33m,\u001b[0m \u001b[0mwindowsize\u001b[0m\u001b[1;33m)\u001b[0m\u001b[1;33m\u001b[0m\u001b[1;33m\u001b[0m\u001b[0m\n\u001b[0m\u001b[0;32m     14\u001b[0m         \u001b[0mprint\u001b[0m\u001b[1;33m(\u001b[0m\u001b[1;34m\"WMD:\"\u001b[0m\u001b[1;33m)\u001b[0m\u001b[1;33m\u001b[0m\u001b[1;33m\u001b[0m\u001b[0m\n\u001b[0;32m     15\u001b[0m         \u001b[0mprint\u001b[0m\u001b[1;33m(\u001b[0m\u001b[0mWMD1\u001b[0m\u001b[1;33m)\u001b[0m\u001b[1;33m\u001b[0m\u001b[1;33m\u001b[0m\u001b[0m\n",
      "\u001b[1;32m~\\Documents\\Conformance\\MARCH\\WMD.py\u001b[0m in \u001b[0;36mget_dist\u001b[1;34m(log1, log2, windowsize)\u001b[0m\n\u001b[0;32m     65\u001b[0m         \u001b[1;32mreturn\u001b[0m \u001b[0mdistances\u001b[0m\u001b[1;33m\u001b[0m\u001b[1;33m\u001b[0m\u001b[0m\n\u001b[0;32m     66\u001b[0m \u001b[1;33m\u001b[0m\u001b[0m\n\u001b[1;32m---> 67\u001b[1;33m     \u001b[0mdisM\u001b[0m \u001b[1;33m=\u001b[0m \u001b[0mdistmatrix\u001b[0m\u001b[1;33m(\u001b[0m\u001b[0mGT_log\u001b[0m\u001b[1;33m,\u001b[0m \u001b[0mpert_log\u001b[0m\u001b[1;33m)\u001b[0m\u001b[1;33m\u001b[0m\u001b[1;33m\u001b[0m\u001b[0m\n\u001b[0m\u001b[0;32m     68\u001b[0m \u001b[1;33m\u001b[0m\u001b[0m\n\u001b[0;32m     69\u001b[0m     \u001b[0mprecision\u001b[0m \u001b[1;33m=\u001b[0m \u001b[0mnp\u001b[0m\u001b[1;33m.\u001b[0m\u001b[0maverage\u001b[0m\u001b[1;33m(\u001b[0m\u001b[0mdisM\u001b[0m\u001b[1;33m.\u001b[0m\u001b[0mmin\u001b[0m\u001b[1;33m(\u001b[0m\u001b[0maxis\u001b[0m\u001b[1;33m=\u001b[0m\u001b[1;36m1\u001b[0m\u001b[1;33m)\u001b[0m\u001b[1;33m)\u001b[0m\u001b[1;33m\u001b[0m\u001b[1;33m\u001b[0m\u001b[0m\n",
      "\u001b[1;32m~\\Documents\\Conformance\\MARCH\\WMD.py\u001b[0m in \u001b[0;36mdistmatrix\u001b[1;34m(GTlog, pertlog)\u001b[0m\n\u001b[0;32m     62\u001b[0m                \u001b[1;31m# print ('Now calculating trace number %s'%i)\u001b[0m\u001b[1;33m\u001b[0m\u001b[1;33m\u001b[0m\u001b[1;33m\u001b[0m\u001b[0m\n\u001b[0;32m     63\u001b[0m             \u001b[1;32mfor\u001b[0m \u001b[0mj\u001b[0m \u001b[1;32min\u001b[0m \u001b[0mrange\u001b[0m\u001b[1;33m(\u001b[0m\u001b[0mlen\u001b[0m\u001b[1;33m(\u001b[0m\u001b[0mGTlog\u001b[0m\u001b[1;33m)\u001b[0m\u001b[1;33m)\u001b[0m\u001b[1;33m:\u001b[0m\u001b[1;33m\u001b[0m\u001b[1;33m\u001b[0m\u001b[0m\n\u001b[1;32m---> 64\u001b[1;33m                 \u001b[0mdistances\u001b[0m\u001b[1;33m[\u001b[0m\u001b[0mi\u001b[0m\u001b[1;33m]\u001b[0m\u001b[1;33m[\u001b[0m\u001b[0mj\u001b[0m\u001b[1;33m]\u001b[0m \u001b[1;33m=\u001b[0m \u001b[0mWMD\u001b[0m\u001b[1;33m[\u001b[0m\u001b[0mi\u001b[0m\u001b[1;33m,\u001b[0m\u001b[0mj\u001b[0m\u001b[1;33m]\u001b[0m\u001b[1;33m\u001b[0m\u001b[1;33m\u001b[0m\u001b[0m\n\u001b[0m\u001b[0;32m     65\u001b[0m         \u001b[1;32mreturn\u001b[0m \u001b[0mdistances\u001b[0m\u001b[1;33m\u001b[0m\u001b[1;33m\u001b[0m\u001b[0m\n\u001b[0;32m     66\u001b[0m \u001b[1;33m\u001b[0m\u001b[0m\n",
      "\u001b[1;32m~\\Documents\\Conformance\\MARCH\\WMD.py\u001b[0m in \u001b[0;36m__getitem__\u001b[1;34m(self, ij)\u001b[0m\n\u001b[0;32m     41\u001b[0m                     \u001b[0mnp\u001b[0m\u001b[1;33m.\u001b[0m\u001b[0msqrt\u001b[0m\u001b[1;33m(\u001b[0m\u001b[0mnp\u001b[0m\u001b[1;33m.\u001b[0m\u001b[0msum\u001b[0m\u001b[1;33m(\u001b[0m\u001b[1;33m(\u001b[0m\u001b[0mself\u001b[0m\u001b[1;33m.\u001b[0m\u001b[0mwv\u001b[0m\u001b[1;33m[\u001b[0m\u001b[0mt1\u001b[0m\u001b[1;33m]\u001b[0m \u001b[1;33m-\u001b[0m \u001b[0mself\u001b[0m\u001b[1;33m.\u001b[0m\u001b[0mwv\u001b[0m\u001b[1;33m[\u001b[0m\u001b[0mt2\u001b[0m\u001b[1;33m]\u001b[0m\u001b[1;33m)\u001b[0m\u001b[1;33m**\u001b[0m\u001b[1;36m2\u001b[0m\u001b[1;33m)\u001b[0m\u001b[1;33m)\u001b[0m\u001b[1;33m\u001b[0m\u001b[1;33m\u001b[0m\u001b[0m\n\u001b[0;32m     42\u001b[0m     \u001b[1;32mdef\u001b[0m \u001b[0m__getitem__\u001b[0m\u001b[1;33m(\u001b[0m\u001b[0mself\u001b[0m\u001b[1;33m,\u001b[0m \u001b[0mij\u001b[0m\u001b[1;33m)\u001b[0m\u001b[1;33m:\u001b[0m\u001b[1;33m\u001b[0m\u001b[1;33m\u001b[0m\u001b[0m\n\u001b[1;32m---> 43\u001b[1;33m         \u001b[1;32mif\u001b[0m \u001b[0mnp\u001b[0m\u001b[1;33m.\u001b[0m\u001b[0misnan\u001b[0m\u001b[1;33m(\u001b[0m\u001b[0mself\u001b[0m\u001b[1;33m.\u001b[0m\u001b[0mdists\u001b[0m\u001b[1;33m[\u001b[0m\u001b[0mij\u001b[0m\u001b[1;33m[\u001b[0m\u001b[1;36m0\u001b[0m\u001b[1;33m]\u001b[0m\u001b[1;33m,\u001b[0m \u001b[0mij\u001b[0m\u001b[1;33m[\u001b[0m\u001b[1;36m1\u001b[0m\u001b[1;33m]\u001b[0m\u001b[1;33m]\u001b[0m\u001b[1;33m)\u001b[0m\u001b[1;33m:\u001b[0m\u001b[1;33m\u001b[0m\u001b[1;33m\u001b[0m\u001b[0m\n\u001b[0m\u001b[0;32m     44\u001b[0m             \u001b[0mself\u001b[0m\u001b[1;33m.\u001b[0m\u001b[0mdists\u001b[0m\u001b[1;33m[\u001b[0m\u001b[0mij\u001b[0m\u001b[1;33m[\u001b[0m\u001b[1;36m0\u001b[0m\u001b[1;33m]\u001b[0m\u001b[1;33m,\u001b[0m \u001b[0mij\u001b[0m\u001b[1;33m[\u001b[0m\u001b[1;36m1\u001b[0m\u001b[1;33m]\u001b[0m\u001b[1;33m]\u001b[0m \u001b[1;33m=\u001b[0m \u001b[0memd\u001b[0m\u001b[1;33m(\u001b[0m\u001b[0mself\u001b[0m\u001b[1;33m.\u001b[0m\u001b[0mnbow1\u001b[0m\u001b[1;33m[\u001b[0m\u001b[0mij\u001b[0m\u001b[1;33m[\u001b[0m\u001b[1;36m0\u001b[0m\u001b[1;33m]\u001b[0m\u001b[1;33m]\u001b[0m\u001b[1;33m,\u001b[0m \u001b[0mself\u001b[0m\u001b[1;33m.\u001b[0m\u001b[0mnbow2\u001b[0m\u001b[1;33m[\u001b[0m\u001b[0mij\u001b[0m\u001b[1;33m[\u001b[0m\u001b[1;36m1\u001b[0m\u001b[1;33m]\u001b[0m\u001b[1;33m]\u001b[0m\u001b[1;33m,\u001b[0m \u001b[0mself\u001b[0m\u001b[1;33m.\u001b[0m\u001b[0mdistance_matrix\u001b[0m\u001b[1;33m)\u001b[0m\u001b[1;33m\u001b[0m\u001b[1;33m\u001b[0m\u001b[0m\n\u001b[0;32m     45\u001b[0m         \u001b[1;32mreturn\u001b[0m \u001b[0mself\u001b[0m\u001b[1;33m.\u001b[0m\u001b[0mdists\u001b[0m\u001b[1;33m[\u001b[0m\u001b[0mij\u001b[0m\u001b[1;33m[\u001b[0m\u001b[1;36m0\u001b[0m\u001b[1;33m]\u001b[0m\u001b[1;33m,\u001b[0m \u001b[0mij\u001b[0m\u001b[1;33m[\u001b[0m\u001b[1;36m1\u001b[0m\u001b[1;33m]\u001b[0m\u001b[1;33m]\u001b[0m\u001b[1;33m\u001b[0m\u001b[1;33m\u001b[0m\u001b[0m\n",
      "\u001b[1;31mKeyboardInterrupt\u001b[0m: "
     ]
    }
   ],
   "source": [
    "test(1000, 10, 5, 15, 0.75, 0.25, 0.0, 0.0, 3, 3)"
   ]
  }
 ],
 "metadata": {
  "kernelspec": {
   "display_name": "Python 3",
   "language": "python",
   "name": "python3"
  },
  "language_info": {
   "codemirror_mode": {
    "name": "ipython",
    "version": 3
   },
   "file_extension": ".py",
   "mimetype": "text/x-python",
   "name": "python",
   "nbconvert_exporter": "python",
   "pygments_lexer": "ipython3",
   "version": "3.7.3"
  }
 },
 "nbformat": 4,
 "nbformat_minor": 2
}
